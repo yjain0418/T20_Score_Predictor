{
 "cells": [
  {
   "cell_type": "code",
   "execution_count": 1,
   "metadata": {},
   "outputs": [],
   "source": [
    "import pandas as pd\n",
    "import pickle\n",
    "import numpy as np"
   ]
  },
  {
   "cell_type": "code",
   "execution_count": 4,
   "metadata": {},
   "outputs": [],
   "source": [
    "df=pickle.load(open('t20_df_3.pkl', 'rb'))"
   ]
  },
  {
   "cell_type": "code",
   "execution_count": 6,
   "metadata": {},
   "outputs": [],
   "source": [
    "X=df.drop(columns=['runs_x'])\n",
    "y=df['runs_x']"
   ]
  },
  {
   "cell_type": "code",
   "execution_count": 7,
   "metadata": {},
   "outputs": [],
   "source": [
    "from sklearn.model_selection import train_test_split\n",
    "\n",
    "X_train, X_test, y_train, y_test = train_test_split(X, y, test_size=0.2, random_state=1)"
   ]
  },
  {
   "cell_type": "code",
   "execution_count": 8,
   "metadata": {},
   "outputs": [
    {
     "data": {
      "text/html": [
       "<div>\n",
       "<style scoped>\n",
       "    .dataframe tbody tr th:only-of-type {\n",
       "        vertical-align: middle;\n",
       "    }\n",
       "\n",
       "    .dataframe tbody tr th {\n",
       "        vertical-align: top;\n",
       "    }\n",
       "\n",
       "    .dataframe thead th {\n",
       "        text-align: right;\n",
       "    }\n",
       "</style>\n",
       "<table border=\"1\" class=\"dataframe\">\n",
       "  <thead>\n",
       "    <tr style=\"text-align: right;\">\n",
       "      <th></th>\n",
       "      <th>batting_team</th>\n",
       "      <th>bowling_team</th>\n",
       "      <th>city</th>\n",
       "      <th>current_score</th>\n",
       "      <th>balls_left</th>\n",
       "      <th>wickets_left</th>\n",
       "      <th>crr</th>\n",
       "      <th>last_five</th>\n",
       "    </tr>\n",
       "  </thead>\n",
       "  <tbody>\n",
       "    <tr>\n",
       "      <th>60</th>\n",
       "      <td>Australia</td>\n",
       "      <td>Sri Lanka</td>\n",
       "      <td>Melbourne</td>\n",
       "      <td>75</td>\n",
       "      <td>60</td>\n",
       "      <td>10</td>\n",
       "      <td>7.500000</td>\n",
       "      <td>31.0</td>\n",
       "    </tr>\n",
       "    <tr>\n",
       "      <th>2825</th>\n",
       "      <td>Bangladesh</td>\n",
       "      <td>Sri Lanka</td>\n",
       "      <td>Colombo</td>\n",
       "      <td>103</td>\n",
       "      <td>35</td>\n",
       "      <td>5</td>\n",
       "      <td>7.270588</td>\n",
       "      <td>31.0</td>\n",
       "    </tr>\n",
       "    <tr>\n",
       "      <th>9013</th>\n",
       "      <td>Pakistan</td>\n",
       "      <td>New Zealand</td>\n",
       "      <td>Dubai</td>\n",
       "      <td>68</td>\n",
       "      <td>58</td>\n",
       "      <td>9</td>\n",
       "      <td>6.580645</td>\n",
       "      <td>39.0</td>\n",
       "    </tr>\n",
       "    <tr>\n",
       "      <th>45640</th>\n",
       "      <td>New Zealand</td>\n",
       "      <td>Sri Lanka</td>\n",
       "      <td>Mount Maunganui</td>\n",
       "      <td>114</td>\n",
       "      <td>39</td>\n",
       "      <td>9</td>\n",
       "      <td>8.444444</td>\n",
       "      <td>35.0</td>\n",
       "    </tr>\n",
       "    <tr>\n",
       "      <th>7794</th>\n",
       "      <td>Bangladesh</td>\n",
       "      <td>West Indies</td>\n",
       "      <td>Lauderhill</td>\n",
       "      <td>131</td>\n",
       "      <td>33</td>\n",
       "      <td>6</td>\n",
       "      <td>9.034483</td>\n",
       "      <td>34.0</td>\n",
       "    </tr>\n",
       "    <tr>\n",
       "      <th>...</th>\n",
       "      <td>...</td>\n",
       "      <td>...</td>\n",
       "      <td>...</td>\n",
       "      <td>...</td>\n",
       "      <td>...</td>\n",
       "      <td>...</td>\n",
       "      <td>...</td>\n",
       "      <td>...</td>\n",
       "    </tr>\n",
       "    <tr>\n",
       "      <th>22226</th>\n",
       "      <td>New Zealand</td>\n",
       "      <td>West Indies</td>\n",
       "      <td>Auckland</td>\n",
       "      <td>131</td>\n",
       "      <td>15</td>\n",
       "      <td>5</td>\n",
       "      <td>7.485714</td>\n",
       "      <td>35.0</td>\n",
       "    </tr>\n",
       "    <tr>\n",
       "      <th>20850</th>\n",
       "      <td>India</td>\n",
       "      <td>West Indies</td>\n",
       "      <td>London</td>\n",
       "      <td>71</td>\n",
       "      <td>45</td>\n",
       "      <td>6</td>\n",
       "      <td>5.680000</td>\n",
       "      <td>24.0</td>\n",
       "    </tr>\n",
       "    <tr>\n",
       "      <th>49278</th>\n",
       "      <td>India</td>\n",
       "      <td>West Indies</td>\n",
       "      <td>Mumbai</td>\n",
       "      <td>120</td>\n",
       "      <td>36</td>\n",
       "      <td>9</td>\n",
       "      <td>8.571429</td>\n",
       "      <td>43.0</td>\n",
       "    </tr>\n",
       "    <tr>\n",
       "      <th>18165</th>\n",
       "      <td>New Zealand</td>\n",
       "      <td>England</td>\n",
       "      <td>Manchester</td>\n",
       "      <td>23</td>\n",
       "      <td>89</td>\n",
       "      <td>8</td>\n",
       "      <td>4.451613</td>\n",
       "      <td>23.0</td>\n",
       "    </tr>\n",
       "    <tr>\n",
       "      <th>7556</th>\n",
       "      <td>Bangladesh</td>\n",
       "      <td>West Indies</td>\n",
       "      <td>St Kitts</td>\n",
       "      <td>124</td>\n",
       "      <td>26</td>\n",
       "      <td>4</td>\n",
       "      <td>7.914894</td>\n",
       "      <td>25.0</td>\n",
       "    </tr>\n",
       "  </tbody>\n",
       "</table>\n",
       "<p>30781 rows × 8 columns</p>\n",
       "</div>"
      ],
      "text/plain": [
       "      batting_team bowling_team             city  current_score  balls_left  \\\n",
       "60       Australia    Sri Lanka        Melbourne             75          60   \n",
       "2825    Bangladesh    Sri Lanka          Colombo            103          35   \n",
       "9013      Pakistan  New Zealand            Dubai             68          58   \n",
       "45640  New Zealand    Sri Lanka  Mount Maunganui            114          39   \n",
       "7794    Bangladesh  West Indies       Lauderhill            131          33   \n",
       "...            ...          ...              ...            ...         ...   \n",
       "22226  New Zealand  West Indies         Auckland            131          15   \n",
       "20850        India  West Indies           London             71          45   \n",
       "49278        India  West Indies           Mumbai            120          36   \n",
       "18165  New Zealand      England       Manchester             23          89   \n",
       "7556    Bangladesh  West Indies         St Kitts            124          26   \n",
       "\n",
       "       wickets_left       crr  last_five  \n",
       "60               10  7.500000       31.0  \n",
       "2825              5  7.270588       31.0  \n",
       "9013              9  6.580645       39.0  \n",
       "45640             9  8.444444       35.0  \n",
       "7794              6  9.034483       34.0  \n",
       "...             ...       ...        ...  \n",
       "22226             5  7.485714       35.0  \n",
       "20850             6  5.680000       24.0  \n",
       "49278             9  8.571429       43.0  \n",
       "18165             8  4.451613       23.0  \n",
       "7556              4  7.914894       25.0  \n",
       "\n",
       "[30781 rows x 8 columns]"
      ]
     },
     "execution_count": 8,
     "metadata": {},
     "output_type": "execute_result"
    }
   ],
   "source": [
    "X_train"
   ]
  },
  {
   "cell_type": "code",
   "execution_count": 11,
   "metadata": {},
   "outputs": [],
   "source": [
    "from sklearn.compose import ColumnTransformer\n",
    "from sklearn.preprocessing import OneHotEncoder, StandardScaler\n",
    "from sklearn.pipeline import Pipeline\n",
    "from sklearn.ensemble import RandomForestRegressor\n",
    "from xgboost import XGBRegressor\n",
    "from sklearn.metrics import r2_score, mean_absolute_error"
   ]
  },
  {
   "cell_type": "code",
   "execution_count": 13,
   "metadata": {},
   "outputs": [],
   "source": [
    "trf = ColumnTransformer([\n",
    "    ('trf', OneHotEncoder(sparse_output=False, drop='first'),['batting_team', 'bowling_team', 'city'])\n",
    "]\n",
    ",remainder='passthrough')"
   ]
  },
  {
   "cell_type": "code",
   "execution_count": 20,
   "metadata": {},
   "outputs": [],
   "source": [
    "pipe=Pipeline(steps=[\n",
    "    ('step1', trf),\n",
    "    ('step2', StandardScaler()),\n",
    "    ('step3', XGBRegressor(n_estimators=1000, learning_rate=0.2, max_depth=12, random_state=1))\n",
    "])"
   ]
  },
  {
   "cell_type": "code",
   "execution_count": 21,
   "metadata": {},
   "outputs": [
    {
     "name": "stdout",
     "output_type": "stream",
     "text": [
      "0.9860079942935598\n",
      "1.678112712074962\n"
     ]
    }
   ],
   "source": [
    "pipe.fit(X_train, y_train)\n",
    "y_pred=pipe.predict(X_test)\n",
    "print(r2_score(y_test, y_pred))\n",
    "print(mean_absolute_error(y_test, y_pred))"
   ]
  },
  {
   "cell_type": "code",
   "execution_count": 16,
   "metadata": {},
   "outputs": [],
   "source": [
    "pickle.dump(pipe, open('pipe.pkl', 'wb'))"
   ]
  },
  {
   "cell_type": "code",
   "execution_count": null,
   "metadata": {},
   "outputs": [],
   "source": []
  }
 ],
 "metadata": {
  "kernelspec": {
   "display_name": "Python 3",
   "language": "python",
   "name": "python3"
  },
  "language_info": {
   "codemirror_mode": {
    "name": "ipython",
    "version": 3
   },
   "file_extension": ".py",
   "mimetype": "text/x-python",
   "name": "python",
   "nbconvert_exporter": "python",
   "pygments_lexer": "ipython3",
   "version": "3.11.2"
  }
 },
 "nbformat": 4,
 "nbformat_minor": 2
}
